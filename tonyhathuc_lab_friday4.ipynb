{
  "nbformat": 4,
  "nbformat_minor": 0,
  "metadata": {
    "colab": {
      "name": "tonyhathuc-lab-friday4.ipynb",
      "private_outputs": true,
      "provenance": [],
      "authorship_tag": "ABX9TyPouOtk2nLL2qTZXSJGyWsJ",
      "include_colab_link": true
    },
    "kernelspec": {
      "name": "python3",
      "display_name": "Python 3"
    },
    "language_info": {
      "name": "python"
    }
  },
  "cells": [
    {
      "cell_type": "markdown",
      "metadata": {
        "id": "view-in-github",
        "colab_type": "text"
      },
      "source": [
        "<a href=\"https://colab.research.google.com/github/tonyhathuc/lab-random-variable-distributions/blob/master/tonyhathuc_lab_friday4.ipynb\" target=\"_parent\"><img src=\"https://colab.research.google.com/assets/colab-badge.svg\" alt=\"Open In Colab\"/></a>"
      ]
    },
    {
      "cell_type": "code",
      "metadata": {
        "id": "gcNX0VWwK7Ap"
      },
      "source": [
        "import numpy as np\n",
        "import pandas as pd"
      ],
      "execution_count": null,
      "outputs": []
    },
    {
      "cell_type": "code",
      "metadata": {
        "id": "-n2K9Z1_s2ac"
      },
      "source": [
        "# read the file\n",
        "data = pd.read_csv(\"https://raw.githubusercontent.com/tonyhathuc/lab-random-variable-distributions/master/files_for_lab/we_fn_use_c_marketing_customer_value_analysis.csv\")\n",
        "data.head(5)"
      ],
      "execution_count": null,
      "outputs": []
    },
    {
      "cell_type": "code",
      "metadata": {
        "id": "E4HkWupUs7Ge"
      },
      "source": [
        "# make a copy of the data\n",
        "# store it in variable called df\n",
        "df = data"
      ],
      "execution_count": null,
      "outputs": []
    },
    {
      "cell_type": "code",
      "metadata": {
        "id": "jwBFmkkqtOu5"
      },
      "source": [
        "# inspect the data\n",
        "df.shape"
      ],
      "execution_count": null,
      "outputs": []
    },
    {
      "cell_type": "code",
      "metadata": {
        "id": "JBKAqFYOtboC"
      },
      "source": [
        "df.info()\n",
        "\n",
        "# Customer Lifetime Value is"
      ],
      "execution_count": null,
      "outputs": []
    },
    {
      "cell_type": "code",
      "metadata": {
        "id": "0K0g3OKjtZcK"
      },
      "source": [
        "# with the describe function only numerical columns will show up :)\n",
        "df.describe()\n",
        "\n"
      ],
      "execution_count": null,
      "outputs": []
    },
    {
      "cell_type": "code",
      "metadata": {
        "id": "d7P-bAKFtdT6"
      },
      "source": [
        "# let#s get the numerical variables from the dataset\n",
        "\n",
        "nums = df.select_dtypes(include=np.number)\n",
        "nums"
      ],
      "execution_count": null,
      "outputs": []
    },
    {
      "cell_type": "code",
      "metadata": {
        "id": "W70eftaCum_z"
      },
      "source": [
        "# let's standardize the headers as well, so we can work easier\n",
        "\n",
        "df.columns.str.lower()"
      ],
      "execution_count": null,
      "outputs": []
    },
    {
      "cell_type": "code",
      "metadata": {
        "id": "mDw5A3RZwiBC"
      },
      "source": [
        ""
      ],
      "execution_count": null,
      "outputs": []
    }
  ]
}